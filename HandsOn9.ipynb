{
  "nbformat": 4,
  "nbformat_minor": 0,
  "metadata": {
    "colab": {
      "provenance": []
    },
    "kernelspec": {
      "name": "python3",
      "display_name": "Python 3"
    },
    "language_info": {
      "name": "python"
    }
  },
  "cells": [
    {
      "cell_type": "markdown",
      "source": [
        "Implement a hash table and upload your code to github:\n",
        "\n",
        "* Use the multiplication AND division method for your hash function\n",
        "\n",
        "    Note your code should be generic enough to allow for ANY hash function\n",
        "\n",
        "* For simplicity assume your keys are integers and the values (data) are integers\n",
        "\n",
        "* Use collision resolution by chaining\n",
        "\n",
        "    Use a doubly linked list and you must write your own (so for example you can't use \"list\" in C++)\n",
        "\n",
        "* You are only allowed to use C-style array's for this implementation (so for example no C++ vectors)\n",
        "\n",
        "* Your Hash table should grow and shrink\n",
        "\n",
        "    When it's full double the array size and re-hash everything\n",
        "\n",
        "    When it's becoming empty e.g. 1/4 empty, then half the size of the array and re-hash everything"
      ],
      "metadata": {
        "id": "n8AYpw247zUB"
      }
    },
    {
      "cell_type": "code",
      "source": [
        "class HashTable:\n",
        "    def __init__(self, initial_size=8):\n",
        "        self.size = initial_size\n",
        "        self.count = 0\n",
        "        self.keys = [None] * initial_size\n",
        "        self.values = [None] * initial_size\n",
        "\n",
        "    def insert(self, key, value):\n",
        "        if self.is_full():\n",
        "            self.resize(self.size * 2)\n",
        "\n",
        "        index = self.hash_function(key)\n",
        "\n",
        "        while self.keys[index] is not None and self.keys[index] != key:\n",
        "            index = (index + 1) % self.size\n",
        "\n",
        "        self.keys[index] = key\n",
        "        self.values[index] = value\n",
        "        self.count += 1\n",
        "\n",
        "    def remove(self, key):\n",
        "        index = self.hash_function(key)\n",
        "\n",
        "        while self.keys[index] is not None:\n",
        "            if self.keys[index] == key:\n",
        "                self.keys[index] = None\n",
        "                self.values[index] = None\n",
        "                self.count -= 1\n",
        "\n",
        "                if self.is_empty() and self.size > 1:\n",
        "                    self.resize(self.size // 2)\n",
        "                return\n",
        "            index = (index + 1) % self.size\n",
        "\n",
        "    def search(self, key):\n",
        "        index = self.hash_function(key)\n",
        "\n",
        "        while self.keys[index] is not None:\n",
        "            if self.keys[index] == key:\n",
        "                return self.values[index]\n",
        "            index = (index + 1) % self.size\n",
        "\n",
        "        return None  # Key not found\n",
        "\n",
        "    def hash_function(self, key):\n",
        "        return key % self.size\n",
        "\n",
        "    def is_full(self):\n",
        "        return self.count >= self.size // 2\n",
        "\n",
        "    def is_empty(self):\n",
        "        return self.count == 0\n",
        "\n",
        "    def resize(self, new_size):\n",
        "        old_keys = self.keys\n",
        "        old_values = self.values\n",
        "\n",
        "        self.size = new_size\n",
        "        self.keys = [None] * new_size\n",
        "        self.values = [None] * new_size\n",
        "        self.count = 0\n",
        "\n",
        "        for i in range(len(old_keys)):\n",
        "            if old_keys[i] is not None:\n",
        "                self.insert(old_keys[i], old_values[i])\n",
        "\n",
        "# Example usage\n",
        "ht = HashTable()\n",
        "ht.insert(10, 100)\n",
        "ht.insert(20, 200)\n",
        "ht.insert(30, 300)\n",
        "ht.insert(40, 400)\n",
        "ht.insert(50, 500)\n",
        "ht.insert(60, 600)\n",
        "\n",
        "print(\"Value for key 30:\", ht.search(30))\n",
        "\n",
        "ht.remove(30)\n",
        "\n",
        "print(\"Value for key 30 after removal:\", ht.search(30))\n",
        "\n",
        "# Retrieve values\n",
        "print(ht.search(10))  # Output: 100\n",
        "print(ht.search(20))  # Output: 200\n",
        "print(ht.search(30))  # Output: 300\n",
        "\n",
        "# Check resizing and retrieval\n",
        "print(ht.search(40))  # Output: 400\n",
        "print(ht.search(50))  # Output: 400\n",
        "print(ht.search(60))  # Output: 400\n"
      ],
      "metadata": {
        "colab": {
          "base_uri": "https://localhost:8080/"
        },
        "id": "iMoNJQhr7zib",
        "outputId": "607e9154-fd78-4efe-b0d4-944bd857df13"
      },
      "execution_count": 5,
      "outputs": [
        {
          "output_type": "stream",
          "name": "stdout",
          "text": [
            "Value for key 30: 300\n",
            "Value for key 30 after removal: None\n",
            "100\n",
            "200\n",
            "None\n",
            "400\n",
            "500\n",
            "600\n"
          ]
        }
      ]
    }
  ]
}